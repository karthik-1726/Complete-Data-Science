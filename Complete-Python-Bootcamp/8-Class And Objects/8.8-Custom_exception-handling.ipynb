{
 "cells": [
  {
   "cell_type": "code",
   "execution_count": 1,
   "id": "566c02ff",
   "metadata": {},
   "outputs": [],
   "source": [
    "class Error(Exception):\n",
    "    pass\n",
    "\n",
    "class DOBException(Error):\n",
    "    pass"
   ]
  },
  {
   "cell_type": "code",
   "execution_count": 3,
   "id": "57a85e76",
   "metadata": {},
   "outputs": [
    {
     "name": "stdout",
     "output_type": "stream",
     "text": [
      "Your age is 36\n",
      "Age should be greater than 20 and less than 30\n"
     ]
    }
   ],
   "source": [
    "try:\n",
    "    year = int(input(\"Enter of year of birth\"))\n",
    "    age = 2025 - year\n",
    "    print(f\"Your age is {age}\")\n",
    "\n",
    "    if age>=20 and age<=30:\n",
    "        print(\"The age is valid you can apply for the exam\")\n",
    "    else:\n",
    "        raise DOBException\n",
    "except DOBException:\n",
    "    print(\"Age should be greater than 20 and less than 30\")\n",
    "\n",
    "\n"
   ]
  },
  {
   "cell_type": "code",
   "execution_count": null,
   "id": "a814a3b3",
   "metadata": {},
   "outputs": [],
   "source": []
  }
 ],
 "metadata": {
  "kernelspec": {
   "display_name": "Python 3",
   "language": "python",
   "name": "python3"
  },
  "language_info": {
   "codemirror_mode": {
    "name": "ipython",
    "version": 3
   },
   "file_extension": ".py",
   "mimetype": "text/x-python",
   "name": "python",
   "nbconvert_exporter": "python",
   "pygments_lexer": "ipython3",
   "version": "3.12.1"
  }
 },
 "nbformat": 4,
 "nbformat_minor": 5
}
