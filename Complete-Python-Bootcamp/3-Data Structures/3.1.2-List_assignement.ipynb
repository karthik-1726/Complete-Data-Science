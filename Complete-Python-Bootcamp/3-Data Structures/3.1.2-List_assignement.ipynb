{
 "cells": [
  {
   "cell_type": "markdown",
   "id": "e18bf959",
   "metadata": {},
   "source": [
    "##### 1. Create a list of firts 20 positive integers. Print the list"
   ]
  },
  {
   "cell_type": "code",
   "execution_count": 2,
   "id": "bf3d4b79",
   "metadata": {},
   "outputs": [
    {
     "name": "stdout",
     "output_type": "stream",
     "text": [
      "[1, 2, 3, 4, 5, 6, 7, 8, 9, 10, 11, 12, 13, 14, 15, 16, 17, 18, 19, 20]\n"
     ]
    }
   ],
   "source": [
    "lst = list(range(1,21))\n",
    "print(lst)"
   ]
  },
  {
   "cell_type": "markdown",
   "id": "54ec0a51",
   "metadata": {},
   "source": [
    "##### 2. Print the first, middle, and last elements of the list created in task 1\n",
    "\n"
   ]
  },
  {
   "cell_type": "code",
   "execution_count": 3,
   "id": "f6af76ec",
   "metadata": {},
   "outputs": [
    {
     "name": "stdout",
     "output_type": "stream",
     "text": [
      "First Element: 1\n",
      "Middle Element: 11\n",
      "Last Element: 20\n"
     ]
    }
   ],
   "source": [
    "print(f\"First Element: {lst[0]}\")\n",
    "print(f\"Middle Element: {lst[len(lst)//2]}\")\n",
    "print(f\"Last Element: {lst[-1]}\")"
   ]
  },
  {
   "cell_type": "markdown",
   "id": "acce2d9e",
   "metadata": {},
   "source": [
    "##### 3. Print the first five elements, the last five elements, and the elements from index 5 to 15 of the list created in task 1"
   ]
  },
  {
   "cell_type": "code",
   "execution_count": 7,
   "id": "5e6f9346",
   "metadata": {},
   "outputs": [
    {
     "name": "stdout",
     "output_type": "stream",
     "text": [
      "First 5 elements: [1, 2, 3, 4, 5]\n",
      "Last 5 elements: [16, 17, 18, 19, 20]\n",
      "Elements from 5 to 15: [6, 7, 8, 9, 10, 11, 12, 13, 14, 15, 16]\n"
     ]
    }
   ],
   "source": [
    "print(f\"First 5 elements: {lst[0:5]}\")\n",
    "print(f\"Last 5 elements: {lst[-5:]}\")\n",
    "print(f\"Elements from 5 to 15: {lst[5:16]}\")"
   ]
  },
  {
   "cell_type": "markdown",
   "id": "bceab8b8",
   "metadata": {},
   "source": [
    "##### 4. Create a new list containing the squares of the first 10 positive integers using a list comprehension. Print the new list."
   ]
  },
  {
   "cell_type": "code",
   "execution_count": 8,
   "id": "0531fb0c",
   "metadata": {},
   "outputs": [
    {
     "name": "stdout",
     "output_type": "stream",
     "text": [
      "[1, 4, 9, 16, 25, 36, 49, 64, 81, 100]\n"
     ]
    }
   ],
   "source": [
    "square = [x**2 for x in range(1,11)]\n",
    "print(square)\n"
   ]
  },
  {
   "cell_type": "markdown",
   "id": "5152a8b6",
   "metadata": {},
   "source": [
    "##### 5. Create a new list containing only the even numbers from the list created in Assignment 1 using a list comprehension. Print the new list."
   ]
  },
  {
   "cell_type": "code",
   "execution_count": 9,
   "id": "87ee9a48",
   "metadata": {},
   "outputs": [
    {
     "name": "stdout",
     "output_type": "stream",
     "text": [
      "[2, 4, 6, 8, 10, 12, 14, 16, 18, 20]\n"
     ]
    }
   ],
   "source": [
    "evens = [x for x in lst if x%2==0]\n",
    "print(evens)"
   ]
  },
  {
   "cell_type": "markdown",
   "id": "b6b9dabe",
   "metadata": {},
   "source": [
    "##### 6. Create a list of random numbers and sort it in ascending and descending order. Remove the duplicates from the list and print the modified list."
   ]
  },
  {
   "cell_type": "code",
   "execution_count": 15,
   "id": "88dd3f9c",
   "metadata": {},
   "outputs": [
    {
     "name": "stdout",
     "output_type": "stream",
     "text": [
      "Original List: [5, 14, 1, 14, 1, 15, 4, 6, 16, 8, 5, 13, 2, 17, 2]\n",
      "Sorted List: [1, 1, 2, 2, 4, 5, 5, 6, 8, 13, 14, 14, 15, 16, 17]\n",
      "Sorted list in Reverse:[17, 16, 15, 14, 14, 13, 8, 6, 5, 5, 4, 2, 2, 1, 1]\n",
      "Unique numbers: [1, 2, 4, 5, 6, 8, 13, 14, 15, 16, 17]\n"
     ]
    }
   ],
   "source": [
    "import random\n",
    "\n",
    "original_lst = [random.randint(1,20) for x in range(15)]\n",
    "print(f\"Original List: {original_lst}\")\n",
    "\n",
    "sorted_number = sorted(original_lst)\n",
    "print(f\"Sorted List: {sorted_number}\")\n",
    "\n",
    "sorted_number_reverse = sorted(original_lst, reverse=True)\n",
    "print(f\"Sorted list in Reverse:{sorted_number_reverse}\")\n",
    "\n",
    "unique_numbers = list(set(original_lst))\n",
    "print(f\"Unique numbers: {unique_numbers}\")"
   ]
  },
  {
   "cell_type": "markdown",
   "id": "4b26157b",
   "metadata": {},
   "source": [
    "#### 7. Create a nested list representing a 3x3 matrix and print the matrix. Access and print the element at the second row and third column."
   ]
  },
  {
   "cell_type": "code",
   "execution_count": 18,
   "id": "70cd1865",
   "metadata": {},
   "outputs": [
    {
     "name": "stdout",
     "output_type": "stream",
     "text": [
      "Matrix:\n",
      "[1, 2, 3]\n",
      "[4, 5, 6]\n",
      "[7, 8, 9]\n",
      "The element at the second row and third column: 6\n"
     ]
    }
   ],
   "source": [
    "matrix = [\n",
    "    [1,2,3],\n",
    "    [4,5,6],\n",
    "    [7,8,9]\n",
    "]\n",
    "print(\"Matrix:\")\n",
    "for row in matrix:\n",
    "    print(row)\n",
    "\n",
    "print(f\"The element at the second row and third column: {matrix[1][2]}\")"
   ]
  },
  {
   "cell_type": "markdown",
   "id": "f3439449",
   "metadata": {},
   "source": [
    "##### 8. Create a list of dictionaries where each dictionary represents a student with keys 'name' and 'score'. Sort the list of dictionaries by the 'score' in descending order and print the sorted list."
   ]
  },
  {
   "cell_type": "code",
   "execution_count": 21,
   "id": "b7e1c526",
   "metadata": {},
   "outputs": [
    {
     "name": "stdout",
     "output_type": "stream",
     "text": [
      "Sorted students by score in descending order:\n",
      "{'name': 'Charlie', 'score': 95}\n",
      "{'name': 'Alice', 'score': 88}\n",
      "{'name': 'Eve', 'score': 78}\n",
      "{'name': 'Bob', 'score': 72}\n",
      "{'name': 'David', 'score': 65}\n"
     ]
    }
   ],
   "source": [
    "students = [\n",
    "    {'name': 'Alice', 'score': 88},\n",
    "    {'name': 'Bob', 'score': 72},\n",
    "    {'name': 'Charlie', 'score': 95},\n",
    "    {'name': 'David', 'score': 65},\n",
    "    {'name': 'Eve', 'score': 78}\n",
    "]\n",
    " \n",
    "sorted_students = sorted(students, key=lambda x: x['score'], reverse=True)\n",
    "print(\"Sorted students by score in descending order:\")\n",
    "for student in sorted_students:\n",
    "    print(student)"
   ]
  },
  {
   "cell_type": "markdown",
   "id": "b8baab32",
   "metadata": {},
   "source": [
    "##### 9. Write a function that takes a 3x3 matrix (nested list) as input and returns its transpose. Print the original and transposed matrices."
   ]
  },
  {
   "cell_type": "code",
   "execution_count": 2,
   "id": "1ef92990",
   "metadata": {},
   "outputs": [
    {
     "name": "stdout",
     "output_type": "stream",
     "text": [
      "Original matrix:\n",
      "[1, 2, 3]\n",
      "[4, 5, 6]\n",
      "[7, 8, 9]\n",
      "Transposed matrix:\n",
      "[1, 4, 7]\n",
      "[2, 5, 8]\n",
      "[3, 6, 9]\n"
     ]
    }
   ],
   "source": [
    "def transpose_matrix (matrix):\n",
    "    transposed = [[matrix[j][i] for j in range(len(matrix))] for i in range(len(matrix[0]))]\n",
    "    return transposed \n",
    "\n",
    "matrix = [\n",
    "    [1,2,3],\n",
    "    [4,5,6],\n",
    "    [7,8,9]\n",
    "]\n",
    "\n",
    "transposed = transpose_matrix(matrix)\n",
    "print(\"Original matrix:\")\n",
    "for row in matrix:\n",
    "    print(row)\n",
    "print(\"Transposed matrix:\")\n",
    "for row in transposed:\n",
    "    print(row)\n",
    "\n",
    "\n",
    "\n",
    "\n",
    "\n"
   ]
  },
  {
   "cell_type": "markdown",
   "id": "07bfcb94",
   "metadata": {},
   "source": [
    "##### 10. Write a function that takes a nested list and flattens it into a single list. Print the original and flattened lists."
   ]
  },
  {
   "cell_type": "markdown",
   "id": "f559803c",
   "metadata": {},
   "source": [
    "##### 11. Create a list of the first 10 positive integers. Remove the elements at indices 2, 4, and 6, and insert the element '99' at index 5. Print the modified list."
   ]
  },
  {
   "cell_type": "markdown",
   "id": "c40ef921",
   "metadata": {},
   "source": [
    "##### 12. Create two lists of the same length. Use the `zip` function to combine these lists into a list of tuples and print the result."
   ]
  },
  {
   "cell_type": "markdown",
   "id": "722240b7",
   "metadata": {},
   "source": [
    "##### 13. Write a function that takes a list and returns a new list with the elements in reverse order. Print the original and reversed lists."
   ]
  },
  {
   "cell_type": "markdown",
   "id": "203f93aa",
   "metadata": {},
   "source": [
    "##### 14. Write a function that rotates a list by n positions. Print the original and rotated lists."
   ]
  },
  {
   "cell_type": "markdown",
   "id": "81f53f25",
   "metadata": {},
   "source": [
    "##### 15. Write a function that takes two lists and returns a new list containing only the elements that are present in both lists. Print the intersected list."
   ]
  },
  {
   "cell_type": "markdown",
   "id": "f9976ca3",
   "metadata": {},
   "source": []
  }
 ],
 "metadata": {
  "kernelspec": {
   "display_name": ".venv",
   "language": "python",
   "name": "python3"
  },
  "language_info": {
   "codemirror_mode": {
    "name": "ipython",
    "version": 3
   },
   "file_extension": ".py",
   "mimetype": "text/x-python",
   "name": "python",
   "nbconvert_exporter": "python",
   "pygments_lexer": "ipython3",
   "version": "3.12.1"
  }
 },
 "nbformat": 4,
 "nbformat_minor": 5
}
