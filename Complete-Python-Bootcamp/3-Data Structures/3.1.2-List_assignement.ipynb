{
 "cells": [
  {
   "cell_type": "markdown",
   "id": "e18bf959",
   "metadata": {},
   "source": [
    "##### 1. Create a list of firts 20 positive integers. Print the list"
   ]
  },
  {
   "cell_type": "code",
   "execution_count": 2,
   "id": "bf3d4b79",
   "metadata": {},
   "outputs": [
    {
     "name": "stdout",
     "output_type": "stream",
     "text": [
      "[1, 2, 3, 4, 5, 6, 7, 8, 9, 10, 11, 12, 13, 14, 15, 16, 17, 18, 19, 20]\n"
     ]
    }
   ],
   "source": [
    "lst = list(range(1,21))\n",
    "print(lst)"
   ]
  },
  {
   "cell_type": "markdown",
   "id": "54ec0a51",
   "metadata": {},
   "source": [
    "##### 2. Print the first, middle, and last elements of the list created in task 1\n",
    "\n"
   ]
  },
  {
   "cell_type": "markdown",
   "id": "acce2d9e",
   "metadata": {},
   "source": [
    "##### 3. Print the first five elements, the last five elements, and the elements from index 5 to 15 of the list created in task 1"
   ]
  },
  {
   "cell_type": "markdown",
   "id": "bceab8b8",
   "metadata": {},
   "source": [
    "##### 4. Create a new list containing the squares of the first 10 positive integers using a list comprehension. Print the new list."
   ]
  },
  {
   "cell_type": "markdown",
   "id": "5152a8b6",
   "metadata": {},
   "source": [
    "##### 5. Create a new list containing only the even numbers from the list created in Assignment 1 using a list comprehension. Print the new list."
   ]
  },
  {
   "cell_type": "markdown",
   "id": "b6b9dabe",
   "metadata": {},
   "source": [
    "##### 6. Create a list of random numbers and sort it in ascending and descending order. Remove the duplicates from the list and print the modified list."
   ]
  },
  {
   "cell_type": "markdown",
   "id": "4b26157b",
   "metadata": {},
   "source": [
    "#### 7. Create a nested list representing a 3x3 matrix and print the matrix. Access and print the element at the second row and third column."
   ]
  },
  {
   "cell_type": "markdown",
   "id": "f3439449",
   "metadata": {},
   "source": [
    "##### 8. Create a list of dictionaries where each dictionary represents a student with keys 'name' and 'score'. Sort the list of dictionaries by the 'score' in descending order and print the sorted list."
   ]
  },
  {
   "cell_type": "markdown",
   "id": "b8baab32",
   "metadata": {},
   "source": [
    "##### 9. Write a function that takes a 3x3 matrix (nested list) as input and returns its transpose. Print the original and transposed matrices."
   ]
  },
  {
   "cell_type": "markdown",
   "id": "07bfcb94",
   "metadata": {},
   "source": [
    "##### 10. Write a function that takes a nested list and flattens it into a single list. Print the original and flattened lists."
   ]
  },
  {
   "cell_type": "markdown",
   "id": "f559803c",
   "metadata": {},
   "source": [
    "##### 11. Create a list of the first 10 positive integers. Remove the elements at indices 2, 4, and 6, and insert the element '99' at index 5. Print the modified list."
   ]
  },
  {
   "cell_type": "markdown",
   "id": "c40ef921",
   "metadata": {},
   "source": [
    "##### 12. Create two lists of the same length. Use the `zip` function to combine these lists into a list of tuples and print the result."
   ]
  },
  {
   "cell_type": "markdown",
   "id": "722240b7",
   "metadata": {},
   "source": [
    "##### 13. Write a function that takes a list and returns a new list with the elements in reverse order. Print the original and reversed lists."
   ]
  },
  {
   "cell_type": "markdown",
   "id": "203f93aa",
   "metadata": {},
   "source": [
    "##### 14. Write a function that rotates a list by n positions. Print the original and rotated lists."
   ]
  },
  {
   "cell_type": "markdown",
   "id": "81f53f25",
   "metadata": {},
   "source": [
    "##### 15. Write a function that takes two lists and returns a new list containing only the elements that are present in both lists. Print the intersected list."
   ]
  },
  {
   "cell_type": "markdown",
   "id": "f9976ca3",
   "metadata": {},
   "source": []
  }
 ],
 "metadata": {
  "kernelspec": {
   "display_name": "Python 3",
   "language": "python",
   "name": "python3"
  },
  "language_info": {
   "codemirror_mode": {
    "name": "ipython",
    "version": 3
   },
   "file_extension": ".py",
   "mimetype": "text/x-python",
   "name": "python",
   "nbconvert_exporter": "python",
   "pygments_lexer": "ipython3",
   "version": "3.12.3"
  }
 },
 "nbformat": 4,
 "nbformat_minor": 5
}
